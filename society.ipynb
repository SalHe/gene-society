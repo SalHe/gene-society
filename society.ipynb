{
 "cells": [
  {
   "cell_type": "markdown",
   "metadata": {
    "slideshow": {
     "slide_type": "subslide"
    }
   },
   "source": [
    "# 基因在不同社会阶级中的保留率\n",
    "\n",
    "先做出以下假设：\n",
    "\n",
    "我们将社会分成若干等级，以下主要分为三个层次：\n",
    "\n",
    "1. 富人：具有较高的生存能力（可通过经济等手段抵抗生存压力）。\n",
    "2. 中等阶级：具有一定的生存能力。\n",
    "3. 穷人：具有较差的生存能力。\n",
    "\n",
    "## 初始人口情况\n",
    "\n",
    "我们假设初始时人口的分配主要以中等阶级为大多数，占比0.8；富人、穷人为少数，均占0.1。"
   ]
  },
  {
   "cell_type": "code",
   "execution_count": 48,
   "metadata": {},
   "outputs": [],
   "source": [
    "import matplotlib.pyplot as plt\n",
    "import numpy as np"
   ]
  },
  {
   "cell_type": "markdown",
   "metadata": {},
   "source": [
    "$$\n",
    "init\\_population\\_proportion = (a_{ij})_{n \\times n}, \\ a_{ij}表示当前阶层i中祖先源自阶层j的比例。\n",
    "$$"
   ]
  },
  {
   "cell_type": "code",
   "execution_count": 49,
   "metadata": {},
   "outputs": [
    {
     "data": {
      "text/plain": [
       "array([[0.1, 0. , 0. ],\n",
       "       [0. , 0.8, 0. ],\n",
       "       [0. , 0. , 0.1]])"
      ]
     },
     "execution_count": 49,
     "metadata": {},
     "output_type": "execute_result"
    }
   ],
   "source": [
    "# init_population = 14 * 10**8  # 14亿人口\n",
    "init_population_proportion = np.diag([0.1, 0.8, 0.1])  # 各等级人口初始比例\n",
    "LEVELS = init_population_proportion.shape[0]\n",
    "LEVELS_LABEL = (\"Rich\", \"Middle\", \"Poor\")\n",
    "LEVEL_RICH = 0\n",
    "LEVEL_MIDDLE = 1\n",
    "LEVEL_POOR = 2\n",
    "\n",
    "assert init_population_proportion.sum() == 1\n",
    "init_population_proportion\n"
   ]
  },
  {
   "cell_type": "markdown",
   "metadata": {},
   "source": [
    "## 等级变化\n",
    "\n",
    "考虑不同等级之间的人存在等级迁移的情况，我们用矩阵`transform_rate`表征。其中：\n",
    "\n",
    "$$\n",
    "transform\\_rate = (t_{ij})_{n \\times n},\\ t_{ij}表示阶层i的人向阶层j的人转变的概率。\n",
    "$$"
   ]
  },
  {
   "cell_type": "code",
   "execution_count": 50,
   "metadata": {},
   "outputs": [],
   "source": [
    "transform_rate = np.array(\n",
    "    [\n",
    "        [0.2, 0.7, 0.1],\n",
    "        [0.6, 0.3, 0.1],\n",
    "        [0.05, 0.2, 0.75],\n",
    "    ]\n",
    ")\n"
   ]
  },
  {
   "cell_type": "markdown",
   "metadata": {},
   "source": [
    "## 人口增长\n",
    "\n",
    "引入以下及格概念表征人口增长情况：\n",
    "\n",
    "- `birth_rate`生育率：表示人生育的意愿，应综合考察生育龄的人、生育的意愿等。\n",
    "- `birth_count`出生个数：表示一个家庭平均生育的个数。\n",
    "- `growth_rate`人口增长率。\n",
    "\n",
    "显然他们之间存在以下关系：\n",
    "\n",
    "$$\n",
    "growth\\_rate = U + birth\\_rate * birth\\_count\n",
    "$$\n",
    "\n",
    "其中$U$为全一的行向量。\n",
    "\n",
    "\n",
    "> 这里并没有体现死亡率/生存阻力，主要是靠后面的存活率来表征。"
   ]
  },
  {
   "cell_type": "code",
   "execution_count": 51,
   "metadata": {},
   "outputs": [
    {
     "data": {
      "text/plain": [
       "array([2.8, 1.5, 1.8])"
      ]
     },
     "execution_count": 51,
     "metadata": {},
     "output_type": "execute_result"
    }
   ],
   "source": [
    "birth_rate = np.array([0.6, 0.5, 0.4])  # 生育率\n",
    "birth_count = np.array([3, 1, 2])  # 生育个数\n",
    "growth_rate = np.ones(birth_count.shape) + birth_rate * \\\n",
    "    birth_count  # 人口增长率（下代人数/上代人数）\n",
    "growth_rate\n"
   ]
  },
  {
   "cell_type": "markdown",
   "metadata": {},
   "source": [
    "### 说明：\n",
    "\n",
    "- 假设富人的生育意愿、平均生育个数都较高，且死亡率较低，则富人的实际人口增长率应相对大得多；\n",
    "- 假设中等人生育意愿、剩余个数都相对较低，死亡率居中，则其实际人口增长率应当较稳定（1左右）；\n",
    "- 假设穷人虽然生育意愿低，但愿意双胎来保证一定劳动力，死亡率最高，则其实际人口增长率也相对较稳定。"
   ]
  },
  {
   "cell_type": "markdown",
   "metadata": {},
   "source": [
    "## 考虑不同阶级人的生存率"
   ]
  },
  {
   "cell_type": "markdown",
   "metadata": {},
   "source": [
    "关键看老龄化程度以及经济能力"
   ]
  },
  {
   "cell_type": "code",
   "execution_count": 52,
   "metadata": {},
   "outputs": [
    {
     "data": {
      "text/plain": [
       "array([[0.6, 0. , 0. ],\n",
       "       [0. , 0.5, 0. ],\n",
       "       [0. , 0. , 0.4]])"
      ]
     },
     "execution_count": 52,
     "metadata": {},
     "output_type": "execute_result"
    }
   ],
   "source": [
    "keep_rate = np.diag([0.6, 0.5, 0.4])\n",
    "keep_rate"
   ]
  },
  {
   "cell_type": "markdown",
   "metadata": {},
   "source": [
    "考虑生存率能力后的实际增长率"
   ]
  },
  {
   "cell_type": "code",
   "execution_count": 53,
   "metadata": {},
   "outputs": [
    {
     "data": {
      "text/plain": [
       "array([[1.68, 0.  , 0.  ],\n",
       "       [0.  , 0.75, 0.  ],\n",
       "       [0.  , 0.  , 0.72]])"
      ]
     },
     "execution_count": 53,
     "metadata": {},
     "output_type": "execute_result"
    }
   ],
   "source": [
    "growth_rate * keep_rate"
   ]
  },
  {
   "cell_type": "code",
   "execution_count": 54,
   "metadata": {},
   "outputs": [
    {
     "data": {
      "text/plain": [
       "array([[0.56, 0.9 , 0.09],\n",
       "       [1.96, 0.45, 0.36],\n",
       "       [0.28, 0.15, 1.35]])"
      ]
     },
     "execution_count": 54,
     "metadata": {},
     "output_type": "execute_result"
    }
   ],
   "source": [
    "growth_and_transform = np.array([growth_rate * transform_rate[:, i]\n",
    "                        for i in range(LEVELS)])\n",
    "growth_and_transform\n"
   ]
  },
  {
   "cell_type": "code",
   "execution_count": 55,
   "metadata": {},
   "outputs": [
    {
     "data": {
      "text/plain": [
       "array([[0.336, 0.54 , 0.054],\n",
       "       [0.98 , 0.225, 0.18 ],\n",
       "       [0.112, 0.06 , 0.54 ]])"
      ]
     },
     "execution_count": 55,
     "metadata": {},
     "output_type": "execute_result"
    }
   ],
   "source": [
    "growth_and_transform_and_live = np.matmul(keep_rate, growth_and_transform)\n",
    "growth_and_transform_and_live"
   ]
  },
  {
   "cell_type": "code",
   "execution_count": 56,
   "metadata": {},
   "outputs": [],
   "source": [
    "def generations(generations):\n",
    "    current_generation = init_population_proportion.copy()\n",
    "    yield 0, current_generation, current_generation/current_generation.sum()\n",
    "    for g in range(generations):\n",
    "        current_generation = np.matmul(\n",
    "            current_generation, growth_and_transform_and_live)\n",
    "        yield g+1, current_generation, current_generation / current_generation.sum()\n",
    "\n"
   ]
  },
  {
   "cell_type": "code",
   "execution_count": 57,
   "metadata": {},
   "outputs": [],
   "source": [
    "GENERATIONS = 1000  # 1000代已经很长了（试想一下差不多一代就是若干年，1000代就是上万年了）\n",
    "# GENERATIONS = 10 # 差不多可以看成过了100年\n",
    "population_generations = []\n",
    "population_generations_rate = []\n",
    "gene_keep_rate = []\n",
    "levels_rate = []\n",
    "for (generation, population, population_rate) in generations(GENERATIONS):\n",
    "    population_generations.append(population)\n",
    "    population_generations_rate.append(population_rate)\n",
    "    gene_keep_rate.append(population_rate.sum(axis=0))\n",
    "    levels_rate.append(population_rate.sum(axis=1))\n",
    "    # print(f\"Generation {generation}\",\n",
    "    #       \"相较初始人数比例：\", population, population.sum(),\n",
    "    #       \"当前人数比例：\", population_rate,\n",
    "    #       \"初始等级基因保留比例：\", gene_keep_rate[-1],\n",
    "    #       \"当前阶级比例：\", levels_rate[-1],\n",
    "    #       sep=\"\\n\")\n",
    "    # print()\n",
    "\n",
    "population_generations = np.array(population_generations)\n",
    "population_generations_rate = np.array(population_generations_rate)\n",
    "gene_keep_rate = np.array(gene_keep_rate)\n",
    "levels_rate = np.array(levels_rate)"
   ]
  },
  {
   "cell_type": "code",
   "execution_count": 58,
   "metadata": {},
   "outputs": [
    {
     "data": {
      "text/plain": [
       "<matplotlib.legend.Legend at 0x23522bcf100>"
      ]
     },
     "execution_count": 58,
     "metadata": {},
     "output_type": "execute_result"
    },
    {
     "data": {
      "image/png": "[encoded data removed]",
      "text/plain": [
       "<Figure size 432x288 with 1 Axes>"
      ]
     },
     "metadata": {
      "needs_background": "light"
     },
     "output_type": "display_data"
    }
   ],
   "source": [
    "for level in range(LEVELS):\n",
    "    plt.plot(levels_rate[0:20, level], label=LEVELS_LABEL[level])\n",
    "plt.title(\"Levels in Gen%\")\n",
    "plt.xlabel(\"Gen\")\n",
    "plt.legend(loc=\"upper right\")\n"
   ]
  },
  {
   "cell_type": "code",
   "execution_count": 64,
   "metadata": {},
   "outputs": [
    {
     "data": {
      "text/plain": [
       "<matplotlib.legend.Legend at 0x2351a303460>"
      ]
     },
     "execution_count": 64,
     "metadata": {},
     "output_type": "execute_result"
    },
    {
     "data": {
      "image/png": "[encoded data removed]",
      "text/plain": [
       "<Figure size 432x288 with 1 Axes>"
      ]
     },
     "metadata": {
      "needs_background": "light"
     },
     "output_type": "display_data"
    }
   ],
   "source": [
    "for level_now in range(LEVELS):\n",
    "    for level_from in range(LEVELS):\n",
    "        plt.plot(population_generations_rate[0:20, level_now, level_from],\n",
    "                 label=f\"now:{LEVELS_LABEL[level_now]}, from:{LEVELS_LABEL[level_from]}\")\n",
    "plt.title(\"Originals from Levels in Gen%\")\n",
    "plt.xlabel(\"Gen\")\n",
    "plt.ylim(0, 0.6)\n",
    "plt.legend(loc=\"upper right\")\n"
   ]
  },
  {
   "cell_type": "code",
   "execution_count": 60,
   "metadata": {},
   "outputs": [
    {
     "data": {
      "image/png": "[encoded data removed]",
      "text/plain": [
       "<Figure size 432x288 with 1 Axes>"
      ]
     },
     "metadata": {
      "needs_background": "light"
     },
     "output_type": "display_data"
    }
   ],
   "source": [
    "for level in range(LEVELS):\n",
    "    plt.plot(gene_keep_rate[0:20, level], label=LEVELS_LABEL[level])\n",
    "plt.plot(gene_keep_rate[0:20, LEVEL_MIDDLE] +\n",
    "         gene_keep_rate[0:20, LEVEL_POOR], label=\"Middle&Poor\")\n",
    "plt.title(\"Original Gene%\")\n",
    "plt.xlabel(\"Gen\")\n",
    "plt.legend(loc=\"upper right\")\n",
    "plt.show()\n"
   ]
  },
  {
   "cell_type": "code",
   "execution_count": 61,
   "metadata": {},
   "outputs": [
    {
     "data": {
      "image/png": "[encoded data removed]",
      "text/plain": [
       "<Figure size 432x288 with 1 Axes>"
      ]
     },
     "metadata": {
      "needs_background": "light"
     },
     "output_type": "display_data"
    }
   ],
   "source": [
    "plt.plot(population_generations.sum(axis=1).sum(axis=1)[0:50], label=\"Rich\")\n",
    "plt.title(\"Population\")\n",
    "plt.xlabel(\"Gen\")\n",
    "plt.show()\n"
   ]
  },
  {
   "cell_type": "markdown",
   "metadata": {},
   "source": [
    "## 结论\n",
    "\n",
    "1. 尝试调整参数会发现，人口等级比例基本是保持稳定的，即便迭代了上百代都跟初始比例差不多；\n",
    "2. 但是各参数对不同阶级最原始基因的保留是有巨大影响的（但是总体来看富人的基因保留更多，即便初始0.1发展到后面基本上收敛到50%，中等阶级和穷人合计50%）。"
   ]
  }
 ],
 "metadata": {
  "kernelspec": {
   "display_name": "Python 3.8.8 ('base')",
   "language": "python",
   "name": "python3"
  },
  "language_info": {
   "codemirror_mode": {
    "name": "ipython",
    "version": 3
   },
   "file_extension": ".py",
   "mimetype": "text/x-python",
   "name": "python",
   "nbconvert_exporter": "python",
   "pygments_lexer": "ipython3",
   "version": "3.8.8"
  },
  "orig_nbformat": 4,
  "vscode": {
   "interpreter": {
    "hash": "ad2bdc8ecc057115af97d19610ffacc2b4e99fae6737bb82f5d7fb13d2f2c186"
   }
  }
 },
 "nbformat": 4,
 "nbformat_minor": 2
}
